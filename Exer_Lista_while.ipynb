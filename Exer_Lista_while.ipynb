{
  "nbformat": 4,
  "nbformat_minor": 0,
  "metadata": {
    "colab": {
      "name": "Exer_Lista_while.ipynb",
      "provenance": [],
      "authorship_tag": "ABX9TyOxgKyakqL6BFGi9T4Sy2TY",
      "include_colab_link": true
    },
    "kernelspec": {
      "name": "python3",
      "display_name": "Python 3"
    },
    "language_info": {
      "name": "python"
    }
  },
  "cells": [
    {
      "cell_type": "markdown",
      "metadata": {
        "id": "view-in-github",
        "colab_type": "text"
      },
      "source": [
        "<a href=\"https://colab.research.google.com/github/cegalvao92/Blue_Exercicios/blob/main/Exer_Lista_while.ipynb\" target=\"_parent\"><img src=\"https://colab.research.google.com/assets/colab-badge.svg\" alt=\"Open In Colab\"/></a>"
      ]
    },
    {
      "cell_type": "markdown",
      "metadata": {
        "id": "eONKCW-jgkof"
      },
      "source": [
        "Exe 01"
      ]
    },
    {
      "cell_type": "code",
      "metadata": {
        "colab": {
          "base_uri": "https://localhost:8080/"
        },
        "id": "UIwzprgWgncQ",
        "outputId": "83c3dfd5-755e-4dfd-924d-6a39f98e0d14"
      },
      "source": [
        "c = 0\n",
        "while c < 2:\n",
        "  num_alu = []\n",
        "  num_alu.append(int(input('Digite o numero do aluno: ')))\n",
        "  alt_alu = []\n",
        "  alt_alu.append(float(input('Digite a altura dele: ')))\n",
        "  print()\n",
        "  c = c + 1\n",
        "print('O aluno mais alto encontrado: {}'.format(max(alt_alu)))\n",
        "print('O aluno mais baixo encontrado: {}'.format(min(alt_alu)))\n"
      ],
      "execution_count": 22,
      "outputs": [
        {
          "output_type": "stream",
          "text": [
            "Digite o numero do aluno: 01\n",
            "Digite a altura dele: 1.60\n",
            "\n",
            "Digite o numero do aluno: 02\n",
            "Digite a altura dele: 1.65\n",
            "\n",
            "O aluno mais alto encontrado: 1.65\n",
            "O aluno mais baixo encontrado: 1.65\n"
          ],
          "name": "stdout"
        }
      ]
    },
    {
      "cell_type": "code",
      "metadata": {
        "id": "oJ_IkbECgjna"
      },
      "source": [
        ""
      ],
      "execution_count": null,
      "outputs": []
    }
  ]
}
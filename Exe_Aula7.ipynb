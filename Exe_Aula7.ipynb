{
  "nbformat": 4,
  "nbformat_minor": 0,
  "metadata": {
    "colab": {
      "name": "Exe_Aula7.ipynb",
      "provenance": [],
      "authorship_tag": "ABX9TyOpsYu8VtSDGkZbi2xp2Tw5",
      "include_colab_link": true
    },
    "kernelspec": {
      "name": "python3",
      "display_name": "Python 3"
    },
    "language_info": {
      "name": "python"
    }
  },
  "cells": [
    {
      "cell_type": "markdown",
      "metadata": {
        "id": "view-in-github",
        "colab_type": "text"
      },
      "source": [
        "<a href=\"https://colab.research.google.com/github/cegalvao92/Blue_Exercicios/blob/main/Exe_Aula7.ipynb\" target=\"_parent\"><img src=\"https://colab.research.google.com/assets/colab-badge.svg\" alt=\"Open In Colab\"/></a>"
      ]
    },
    {
      "cell_type": "markdown",
      "metadata": {
        "id": "9CXBBHt1yS2S"
      },
      "source": [
        "Exe 01\n"
      ]
    },
    {
      "cell_type": "code",
      "metadata": {
        "colab": {
          "base_uri": "https://localhost:8080/"
        },
        "id": "lGJW5iNGu_TG",
        "outputId": "d10426c7-c718-40b3-af62-f22119663c43"
      },
      "source": [
        "\n",
        "\n",
        "def funcao_menor(x,y):\n",
        "  if x<y:\n",
        "    print('{} é menor que {}'.format(x,y))\n",
        "  elif y<x:\n",
        "    print('{} é menor que {}'.format(y,x))\n",
        "  else:\n",
        "    print('{} e {} são iguais!'.format(x,y))\n",
        "a = int(input('Digite um numero: '))\n",
        "b = int(input('Digite outro numero: '))\n",
        "funcao_menor(a,b)"
      ],
      "execution_count": null,
      "outputs": [
        {
          "output_type": "stream",
          "text": [
            "Digite um numero: 5\n",
            "Digite outro numero: 6\n",
            "5 é menor que 6\n"
          ],
          "name": "stdout"
        }
      ]
    },
    {
      "cell_type": "markdown",
      "metadata": {
        "id": "I6PjMOptyXQF"
      },
      "source": [
        "Exe 02"
      ]
    },
    {
      "cell_type": "code",
      "metadata": {
        "colab": {
          "base_uri": "https://localhost:8080/"
        },
        "id": "Sk5HVcmXybfA",
        "outputId": "ac8e75d9-f5c2-4bbc-9487-e01b2e0f18c1"
      },
      "source": [
        "a = int(input('Digite um numero: '))\n",
        "b = int(input('Digite outro numero: '))\n",
        "\n",
        "def funcao_soma(a, b, limite=20):\n",
        "  if (a + b) > limite:\n",
        "    return True\n",
        "  else:\n",
        "    print('A soma de {} e {} é menor que {}'.format(a,b,limite))\n",
        "\n",
        "funcao_soma(a, b, limite=20)\n",
        "\n",
        "\n"
      ],
      "execution_count": null,
      "outputs": [
        {
          "output_type": "stream",
          "text": [
            "Digite um numero: 10\n",
            "Digite outro numero: 15\n"
          ],
          "name": "stdout"
        },
        {
          "output_type": "execute_result",
          "data": {
            "text/plain": [
              "True"
            ]
          },
          "metadata": {
            "tags": []
          },
          "execution_count": 20
        }
      ]
    },
    {
      "cell_type": "markdown",
      "metadata": {
        "id": "Ods28eRY3iB8"
      },
      "source": [
        "Ex 03"
      ]
    },
    {
      "cell_type": "code",
      "metadata": {
        "id": "BuAtyfgW3mYG",
        "outputId": "bbb82bf4-0cc5-45ab-c8e5-a40abbff3fc4",
        "colab": {
          "base_uri": "https://localhost:8080/"
        }
      },
      "source": [
        "def func_string(nome):\n",
        "  print ('nome: {}'.format(nome).upper())\n",
        "\n",
        "string = input('Digite a string: ')\n",
        "func_string(string)"
      ],
      "execution_count": 6,
      "outputs": [
        {
          "output_type": "stream",
          "text": [
            "Digite a string: eduardo\n",
            "NOME: EDUARDO\n"
          ],
          "name": "stdout"
        }
      ]
    },
    {
      "cell_type": "markdown",
      "metadata": {
        "id": "vAn_SqfcMQZl"
      },
      "source": [
        "Exe 04"
      ]
    },
    {
      "cell_type": "code",
      "metadata": {
        "id": "vda96zOmMSxr",
        "outputId": "11fc8576-af27-44ab-caa9-68a9e867ae73",
        "colab": {
          "base_uri": "https://localhost:8080/"
        }
      },
      "source": [
        "import datetime \n",
        "def fun_voto(ano):\n",
        "  anoAtual = datetime.datetime.now().year\n",
        "\n",
        "  if anoAtual - ano < 16:\n",
        "    print('Voto Negado')\n",
        "  elif anoAtual - ano >= 16 and anoAtual - ano < 18 :\n",
        "    print('Voto Opcional')\n",
        "  else:\n",
        "    print('Voto Obrigatório')\n",
        "\n",
        "ano = int(input('Digite o ano de nascimento: '))\n",
        "fun_voto(ano)"
      ],
      "execution_count": 18,
      "outputs": [
        {
          "output_type": "stream",
          "text": [
            "Digite o ano de nascimento: 2000\n",
            "Voto Obrigatório\n"
          ],
          "name": "stdout"
        }
      ]
    },
    {
      "cell_type": "markdown",
      "metadata": {
        "id": "Lp2LgEQNReOH"
      },
      "source": [
        "Exe 05"
      ]
    },
    {
      "cell_type": "code",
      "metadata": {
        "id": "R_f3Xm9WRhPD",
        "outputId": "cbdb7c43-af00-43c8-b51e-f1a4dc4c19bf",
        "colab": {
          "base_uri": "https://localhost:8080/"
        }
      },
      "source": [
        "def fun_ficha(nome,gols):\n",
        "  print(nome)\n",
        "  print(gols)\n",
        "\n",
        "nome = input('Digite o nome do jogador: ')\n",
        "gols = input('Digite quantidade de gols: ')\n",
        "fun_ficha(nome,gols)\n"
      ],
      "execution_count": 21,
      "outputs": [
        {
          "output_type": "stream",
          "text": [
            "Digite o nome do jogador: sdfsd\n",
            "Digite quantidade de gols: 6\n",
            "sdfsd\n",
            "6\n"
          ],
          "name": "stdout"
        }
      ]
    },
    {
      "cell_type": "markdown",
      "metadata": {
        "id": "vh_vgsIXTHtu"
      },
      "source": [
        "Exe 06\n"
      ]
    },
    {
      "cell_type": "code",
      "metadata": {
        "id": "ddUHdFWdTKxW"
      },
      "source": [
        "def fun_media(nota1,nota2,nota3):\n",
        "  media = (nota1 + nota2 + nota3)/3\n",
        "\n",
        "  if nota1>nota2>nota3:\n",
        "    media = (nota1 + nota2)/2\n",
        "    print('Media das duas maiores notas: {}'.format(media))\n",
        "    print('Nota mais alta: {}'.format(nota1))\n",
        "    print('Nota mais baixa: {}',format(nota3))\n",
        "  elif nota1>nota3>nota2:\n",
        "    media = (nota1 + nota3)/2\n",
        "    print('Media das duas maiores notas: {}'.format(media))\n",
        "    print('Nota mais alta: {}'.format(nota1))\n",
        "    print('Nota mais baixa: {}',format(nota2))\n",
        "  elif nota2>nota3>nota1:\n",
        "    media = (nota2 + nota3)/2\n",
        "    print('Media das duas maiores notas: {}'.format(media))\n",
        "    print('Nota mais alta: {}'.format(nota2))\n",
        "    print('Nota mais baixa: {}',format(nota1))\n",
        "  elif nota2>nota1>nota3:\n",
        "    media = (nota1 + nota2)/2\n",
        "    print('Media das duas maiores notas: {}'.format(media))\n",
        "    print('Nota mais alta: {}'.format(nota2))\n",
        "    print('Nota mais baixa: {}',format(nota3))\n",
        "  elif nota3>nota2>nota1:\n",
        "    media = (nota2 + nota3)/2\n",
        "    print('Media das duas maiores notas: {}'.format(media))\n",
        "    print('Nota mais alta: {}'.format(nota3))\n",
        "    print('Nota mais baixa: {}',format(nota1))\n",
        "  elif nota3>nota1>nota2:\n",
        "    media = (nota1 + nota3)/2\n",
        "    print('Media das duas maiores notas: {}'.format(media))\n",
        "    print('Nota mais alta: {}'.format(nota1))\n",
        "    print('Nota mais baixa: {}',format(nota2))"
      ],
      "execution_count": null,
      "outputs": []
    }
  ]
}
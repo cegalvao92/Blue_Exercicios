{
  "nbformat": 4,
  "nbformat_minor": 0,
  "metadata": {
    "colab": {
      "name": "Exe_Aula7.ipynb",
      "provenance": [],
      "authorship_tag": "ABX9TyO8QhlRW9VsuvlKsoRBP4fu",
      "include_colab_link": true
    },
    "kernelspec": {
      "name": "python3",
      "display_name": "Python 3"
    },
    "language_info": {
      "name": "python"
    }
  },
  "cells": [
    {
      "cell_type": "markdown",
      "metadata": {
        "id": "view-in-github",
        "colab_type": "text"
      },
      "source": [
        "<a href=\"https://colab.research.google.com/github/cegalvao92/Blue_Exercicios/blob/main/Exe_Aula7.ipynb\" target=\"_parent\"><img src=\"https://colab.research.google.com/assets/colab-badge.svg\" alt=\"Open In Colab\"/></a>"
      ]
    },
    {
      "cell_type": "markdown",
      "metadata": {
        "id": "9CXBBHt1yS2S"
      },
      "source": [
        "Exe 01\n"
      ]
    },
    {
      "cell_type": "code",
      "metadata": {
        "colab": {
          "base_uri": "https://localhost:8080/"
        },
        "id": "lGJW5iNGu_TG",
        "outputId": "d10426c7-c718-40b3-af62-f22119663c43"
      },
      "source": [
        "\n",
        "\n",
        "def funcao_menor(x,y):\n",
        "  if x<y:\n",
        "    print('{} é menor que {}'.format(x,y))\n",
        "  elif y<x:\n",
        "    print('{} é menor que {}'.format(y,x))\n",
        "  else:\n",
        "    print('{} e {} são iguais!'.format(x,y))\n",
        "a = int(input('Digite um numero: '))\n",
        "b = int(input('Digite outro numero: '))\n",
        "funcao_menor(a,b)"
      ],
      "execution_count": null,
      "outputs": [
        {
          "output_type": "stream",
          "text": [
            "Digite um numero: 5\n",
            "Digite outro numero: 6\n",
            "5 é menor que 6\n"
          ],
          "name": "stdout"
        }
      ]
    },
    {
      "cell_type": "markdown",
      "metadata": {
        "id": "I6PjMOptyXQF"
      },
      "source": [
        "Exe 02"
      ]
    },
    {
      "cell_type": "code",
      "metadata": {
        "colab": {
          "base_uri": "https://localhost:8080/"
        },
        "id": "Sk5HVcmXybfA",
        "outputId": "ac8e75d9-f5c2-4bbc-9487-e01b2e0f18c1"
      },
      "source": [
        "a = int(input('Digite um numero: '))\n",
        "b = int(input('Digite outro numero: '))\n",
        "\n",
        "def funcao_soma(a, b, limite=20):\n",
        "  if (a + b) > limite:\n",
        "    return True\n",
        "  else:\n",
        "    print('A soma de {} e {} é menor que {}'.format(a,b,limite))\n",
        "\n",
        "funcao_soma(a, b, limite=20)\n",
        "\n",
        "\n"
      ],
      "execution_count": null,
      "outputs": [
        {
          "output_type": "stream",
          "text": [
            "Digite um numero: 10\n",
            "Digite outro numero: 15\n"
          ],
          "name": "stdout"
        },
        {
          "output_type": "execute_result",
          "data": {
            "text/plain": [
              "True"
            ]
          },
          "metadata": {
            "tags": []
          },
          "execution_count": 20
        }
      ]
    },
    {
      "cell_type": "markdown",
      "metadata": {
        "id": "Ods28eRY3iB8"
      },
      "source": [
        "Ex 03"
      ]
    },
    {
      "cell_type": "code",
      "metadata": {
        "id": "BuAtyfgW3mYG"
      },
      "source": [
        ""
      ],
      "execution_count": null,
      "outputs": []
    }
  ]
}
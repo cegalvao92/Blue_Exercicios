{
  "nbformat": 4,
  "nbformat_minor": 0,
  "metadata": {
    "colab": {
      "name": "Exe_Aula6.ipynb",
      "provenance": [],
      "collapsed_sections": [],
      "authorship_tag": "ABX9TyPqMOE6+LGURfOVJjIcgX1D",
      "include_colab_link": true
    },
    "kernelspec": {
      "name": "python3",
      "display_name": "Python 3"
    },
    "language_info": {
      "name": "python"
    }
  },
  "cells": [
    {
      "cell_type": "markdown",
      "metadata": {
        "id": "view-in-github",
        "colab_type": "text"
      },
      "source": [
        "<a href=\"https://colab.research.google.com/github/cegalvao92/Blue_Exercicios/blob/main/Exe_Aula6.ipynb\" target=\"_parent\"><img src=\"https://colab.research.google.com/assets/colab-badge.svg\" alt=\"Open In Colab\"/></a>"
      ]
    },
    {
      "cell_type": "markdown",
      "metadata": {
        "id": "SOS4FDMZ0-Mx"
      },
      "source": [
        "Exe 01\n"
      ]
    },
    {
      "cell_type": "code",
      "metadata": {
        "colab": {
          "base_uri": "https://localhost:8080/"
        },
        "id": "hY_exlSw1HJ_",
        "outputId": "491d5e7e-3276-4e21-9bef-de24a1214183"
      },
      "source": [
        "def funcao_soma(x,y,z):\n",
        "  return x + y + z\n",
        "\n",
        "a = int(input('Digite um numero: '))\n",
        "b = int(input('Digite outro numero: '))\n",
        "c = int(input('Digite o ultimo numero: '))\n",
        "funcao_soma(a,b,c)\n"
      ],
      "execution_count": null,
      "outputs": [
        {
          "output_type": "stream",
          "text": [
            "Digite um numero: 10\n",
            "Digite outro numero: 5\n",
            "Digite o ultimo numero: 7\n"
          ],
          "name": "stdout"
        },
        {
          "output_type": "execute_result",
          "data": {
            "text/plain": [
              "22"
            ]
          },
          "metadata": {
            "tags": []
          },
          "execution_count": 4
        }
      ]
    },
    {
      "cell_type": "markdown",
      "metadata": {
        "id": "gN-pLrwP3oeQ"
      },
      "source": [
        "Exe 02"
      ]
    },
    {
      "cell_type": "code",
      "metadata": {
        "colab": {
          "base_uri": "https://localhost:8080/"
        },
        "id": "e5tm3HmG3q6Y",
        "outputId": "558f814f-7637-435f-d61d-653e194915bc"
      },
      "source": [
        "def funcao_carac(x):\n",
        "  if x>0:\n",
        "    return 'P'\n",
        "  elif x==0:\n",
        "    return 0\n",
        "  else:\n",
        "    return 'N'\n",
        "\n",
        "a = int(input('Digite um numero: '))\n",
        "funcao_carac(a)\n",
        "\n",
        "\n"
      ],
      "execution_count": null,
      "outputs": [
        {
          "output_type": "stream",
          "text": [
            "Digite um numero: 0\n"
          ],
          "name": "stdout"
        },
        {
          "output_type": "execute_result",
          "data": {
            "text/plain": [
              "0"
            ]
          },
          "metadata": {
            "tags": []
          },
          "execution_count": 8
        }
      ]
    },
    {
      "cell_type": "markdown",
      "metadata": {
        "id": "JWWJyafl5UZw"
      },
      "source": [
        "Exe 03\n"
      ]
    },
    {
      "cell_type": "code",
      "metadata": {
        "colab": {
          "base_uri": "https://localhost:8080/"
        },
        "id": "TNSr8uq95X2f",
        "outputId": "446e1803-4960-4ad7-dd0b-88884973da46"
      },
      "source": [
        "def fun_somaImposto(taxaImp,custo):\n",
        "  custoTotal = (taxaImp*custo/100)+custo\n",
        "  return custoTotal\n",
        "\n",
        "valor = float(input('Digite o valor do produto: '))\n",
        "imposto = float(input('Digite o valor do imposto: '))\n",
        "fun_somaImposto(imposto,valor)"
      ],
      "execution_count": null,
      "outputs": [
        {
          "output_type": "stream",
          "text": [
            "Digite o valor do produto: 50.50\n",
            "Digite o valor do imposto: 2\n"
          ],
          "name": "stdout"
        },
        {
          "output_type": "execute_result",
          "data": {
            "text/plain": [
              "51.51"
            ]
          },
          "metadata": {
            "tags": []
          },
          "execution_count": 12
        }
      ]
    },
    {
      "cell_type": "markdown",
      "metadata": {
        "id": "kbvZjDAj-c7k"
      },
      "source": [
        "Exe 04\n"
      ]
    },
    {
      "cell_type": "code",
      "metadata": {
        "colab": {
          "base_uri": "https://localhost:8080/"
        },
        "id": "dWVV8S3j-fYz",
        "outputId": "ea79dea1-68e8-4471-fab1-80afef97e467"
      },
      "source": [
        "def fun_sal(qtd_horas, valor_hora):\n",
        "  if qtd_horas>40:\n",
        "    extras = qtd_horas - 40\n",
        "    sal = 40*valor_hora+(extras*(1.5*valor_hora))\n",
        "    print('Seu salario com o adicional será de R$ {}'.format(sal))\n",
        "  else:\n",
        "    sal = qtd_horas*valor_hora\n",
        "    print('Seu salário será de R$ {}'.format(sal))\n",
        "  \n",
        "x = int(input('Quantas horas ele trabalhou: '))\n",
        "y = float(input('Quanto ganha por hora? '))\n",
        "fun_sal(x,y)  "
      ],
      "execution_count": null,
      "outputs": [
        {
          "output_type": "stream",
          "text": [
            "Quantas horas ele trabalhou: 42\n",
            "Quanto ganha por hora? 20\n",
            "Seu salario com o adicional será de R$ 860.0\n"
          ],
          "name": "stdout"
        }
      ]
    },
    {
      "cell_type": "markdown",
      "metadata": {
        "id": "v20EoOE3KUtj"
      },
      "source": [
        "Exe 05"
      ]
    },
    {
      "cell_type": "code",
      "metadata": {
        "colab": {
          "base_uri": "https://localhost:8080/"
        },
        "id": "V8Q_cTTrKXt_",
        "outputId": "27712479-cbcf-4648-e2f0-8a241d9b8db1"
      },
      "source": [
        "def fun_IMC(alt,peso):\n",
        "  imc = peso/(alt)**2\n",
        "  return imc\n",
        "\n",
        "fun_IMC(1.68,75)\n"
      ],
      "execution_count": null,
      "outputs": [
        {
          "output_type": "execute_result",
          "data": {
            "text/plain": [
              "26.573129251700685"
            ]
          },
          "metadata": {
            "tags": []
          },
          "execution_count": 22
        }
      ]
    },
    {
      "cell_type": "markdown",
      "metadata": {
        "id": "D9dGxgvh1AeH"
      },
      "source": [
        "Exe 06\n"
      ]
    },
    {
      "cell_type": "code",
      "metadata": {
        "colab": {
          "base_uri": "https://localhost:8080/"
        },
        "id": "vrWwatW8_Uak",
        "outputId": "89c86263-9143-44bc-ba12-911a0892b858"
      },
      "source": [
        "def fun_nota(nota):\n",
        "  if nota >= 9:\n",
        "    print('Conceito A')\n",
        "  if nota >=8 and nota < 9:\n",
        "    print('Conceito B')\n",
        "  if nota >=7 and nota < 8:\n",
        "    print('Conceito C')\n",
        "  if nota >=6 and nota < 7:\n",
        "    print('Conceito D')\n",
        "  if nota >=5 and nota < 6:\n",
        "    print('Conceito E')\n",
        "\n",
        "x = float(input('Digite a nota: '))\n",
        "fun_nota(x)"
      ],
      "execution_count": 6,
      "outputs": [
        {
          "output_type": "stream",
          "text": [
            "Digite a nota: 5.5\n",
            "Conceito E\n"
          ],
          "name": "stdout"
        }
      ]
    },
    {
      "cell_type": "markdown",
      "metadata": {
        "id": "mx6KfqHGCfp6"
      },
      "source": [
        "Exe 07\n"
      ]
    },
    {
      "cell_type": "code",
      "metadata": {
        "colab": {
          "base_uri": "https://localhost:8080/"
        },
        "id": "Zdt8XqIXChnT",
        "outputId": "fdea8dc0-2f20-4036-e064-2d932422ce93"
      },
      "source": [
        "def fun_comp(x,y):\n",
        "  if x>y:\n",
        "    return y\n",
        "  elif x<y:\n",
        "    return x\n",
        "  else:\n",
        "    print('Os numeros digitados são iguais: {} e {}'.format(x,y))\n",
        "\n",
        "a = int(input('Digite o numero: '))\n",
        "b = int(input('Digite outro numero: '))\n",
        "fun_comp(a,b)\n",
        "\n"
      ],
      "execution_count": 9,
      "outputs": [
        {
          "output_type": "stream",
          "text": [
            "Digite o numero: 10\n",
            "Digite outro numero: 10\n",
            "Os numeros digitados são iguais: 10 e 10\n"
          ],
          "name": "stdout"
        }
      ]
    },
    {
      "cell_type": "markdown",
      "metadata": {
        "id": "pqbiM_rNEjRk"
      },
      "source": [
        "Desafio"
      ]
    },
    {
      "cell_type": "code",
      "metadata": {
        "id": "dpCOSiwPElvU"
      },
      "source": [
        "def fun_data(dt,mes,ano):\n",
        "  if dt \n"
      ],
      "execution_count": null,
      "outputs": []
    }
  ]
}
{
  "nbformat": 4,
  "nbformat_minor": 0,
  "metadata": {
    "colab": {
      "name": "Exerc_Dicionario.ipynb",
      "provenance": [],
      "collapsed_sections": [],
      "authorship_tag": "ABX9TyMzQWw3FLjkZxauAL0ixTRb",
      "include_colab_link": true
    },
    "kernelspec": {
      "name": "python3",
      "display_name": "Python 3"
    },
    "language_info": {
      "name": "python"
    }
  },
  "cells": [
    {
      "cell_type": "markdown",
      "metadata": {
        "id": "view-in-github",
        "colab_type": "text"
      },
      "source": [
        "<a href=\"https://colab.research.google.com/github/cegalvao92/Blue_Exercicios/blob/main/Exerc_Dicionario.ipynb\" target=\"_parent\"><img src=\"https://colab.research.google.com/assets/colab-badge.svg\" alt=\"Open In Colab\"/></a>"
      ]
    },
    {
      "cell_type": "markdown",
      "metadata": {
        "id": "psG2s_6Jw1H3"
      },
      "source": [
        "Exe 01"
      ]
    },
    {
      "cell_type": "code",
      "metadata": {
        "colab": {
          "base_uri": "https://localhost:8080/"
        },
        "id": "o7tI5R3Wp6H0",
        "outputId": "cfa9489f-6c25-4ba2-9551-8e7ffcb0122a"
      },
      "source": [
        "lista = [1,4,5,6,7,9]\n",
        "dici_01 = {numero:numero**2 for numero in lista}\n",
        "print (dici_01)\n"
      ],
      "execution_count": null,
      "outputs": [
        {
          "output_type": "stream",
          "text": [
            "{1: 1, 4: 16, 5: 25, 6: 36, 7: 49, 9: 81}\n"
          ],
          "name": "stdout"
        }
      ]
    },
    {
      "cell_type": "markdown",
      "metadata": {
        "id": "f1u06CzLtbc_"
      },
      "source": [
        "Exe 02"
      ]
    },
    {
      "cell_type": "code",
      "metadata": {
        "colab": {
          "base_uri": "https://localhost:8080/"
        },
        "id": "Mgbq1CH1tdQ4",
        "outputId": "ae157dc1-831b-47f7-8095-92a0d48b1fc8"
      },
      "source": [
        "dici_02 = {numero:numero**2 for numero in range(1,11)}\n",
        "print (dici_02)\n",
        "\n"
      ],
      "execution_count": null,
      "outputs": [
        {
          "output_type": "stream",
          "text": [
            "{1: 1, 2: 4, 3: 9, 4: 16, 5: 25, 6: 36, 7: 49, 8: 64, 9: 81, 10: 100}\n"
          ],
          "name": "stdout"
        }
      ]
    },
    {
      "cell_type": "markdown",
      "metadata": {
        "id": "9ZvwFAdTy2DP"
      },
      "source": [
        "Exe 03"
      ]
    },
    {
      "cell_type": "code",
      "metadata": {
        "colab": {
          "base_uri": "https://localhost:8080/"
        },
        "id": "B-6f68Psy3v9",
        "outputId": "99e6cf6e-9c31-4e8d-cadf-7f3dc939d91b"
      },
      "source": [
        "aluno = dict()\n",
        "aluno ['nome'] = str(input('Nome: '))\n",
        "aluno ['media'] = float(input(f'Média de {aluno[\"nome\"]}: '))\n",
        "\n",
        "if aluno['media']> 5.0 and aluno['media'] <= 6.9:\n",
        "  print('Em recuperação')\n",
        "if aluno['media'] < 5.0:\n",
        "  print('Reprovado')\n",
        "else:\n",
        "  print('Aprovado')\n",
        "\n",
        "\n",
        "\n",
        "\n",
        "\n",
        "\n",
        "\n",
        "\n",
        "\n",
        "\n",
        "\n",
        "\n",
        " \n",
        "\n"
      ],
      "execution_count": null,
      "outputs": [
        {
          "output_type": "stream",
          "text": [
            "Nome: carlos\n",
            "Média de carlos: 7.0\n",
            "Aprovado\n"
          ],
          "name": "stdout"
        }
      ]
    },
    {
      "cell_type": "markdown",
      "metadata": {
        "id": "nD8pNXL1I69_"
      },
      "source": [
        "Exe 04"
      ]
    },
    {
      "cell_type": "code",
      "metadata": {
        "colab": {
          "base_uri": "https://localhost:8080/"
        },
        "id": "WhF2FAY-I8uB",
        "outputId": "6e50c04b-6255-41de-cd31-57bb3ea9ffe5"
      },
      "source": [
        "import random\n",
        "from time import sleep\n",
        "from operator import itemgetter\n",
        "\n",
        "Dado = {'jogador1':random.randint(1,6),'jogador2':random.randint(1,6),'jogador3':random.randint(1,6),'jogador4':random.randint(1,6)}\n",
        "for k,v in Dado.items():\n",
        "  print('{} tirou no dado: {}'.format(k,v))\n",
        "print()\n",
        "print('Ranking dos Valores:')\n",
        "for i in sorted(Dado, key=Dado.get, reverse=True):\n",
        "  print(i,'---', Dado[i])\n",
        "\n",
        "  \n",
        "\n",
        "\n",
        "\n",
        "\n",
        "\n",
        "\n",
        "\n"
      ],
      "execution_count": 9,
      "outputs": [
        {
          "output_type": "stream",
          "text": [
            "jogador1 tirou no dado: 5\n",
            "jogador2 tirou no dado: 4\n",
            "jogador3 tirou no dado: 3\n",
            "jogador4 tirou no dado: 6\n",
            "\n",
            "Ranking dos Valores:\n",
            "jogador4 --- 6\n",
            "jogador1 --- 5\n",
            "jogador2 --- 4\n",
            "jogador3 --- 3\n"
          ],
          "name": "stdout"
        }
      ]
    },
    {
      "cell_type": "markdown",
      "metadata": {
        "id": "msuU7Mx9w7pP"
      },
      "source": [
        "Exe 05\n"
      ]
    },
    {
      "cell_type": "code",
      "metadata": {
        "colab": {
          "base_uri": "https://localhost:8080/"
        },
        "id": "kN-eByOVunCu",
        "outputId": "92f9574f-68d7-4734-d96d-195f48b56cb7"
      },
      "source": [
        "cadastro = {}\n",
        "cadastro ['nome'] = str(input('Nome: '))\n",
        "cadastro ['ano de nascimento'] = int(input('Ano de nascimento: '))\n",
        "cadastro ['numero da carteira'] = int(input('Numero da carteira de trabalho: '))\n",
        "cadastro ['idade'] = int(input('Idade: '))\n",
        "\n",
        "if cadastro ['numero da carteira'] != 0:\n",
        "  cadastro ['ano_contratação'] = int(input('Ano de contratação: '))\n",
        "  cadastro ['salário'] = float(input('Salário: '))\n",
        "  aposentadoria = (35 - (2021 - cadastro ['ano_contratação']) + cadastro ['idade'] ) \n",
        "  print(cadastro ['nome'],'vai se aposentar com: {} anos'.format(aposentadoria))\n"
      ],
      "execution_count": null,
      "outputs": [
        {
          "output_type": "stream",
          "text": [
            "Nome: carlos\n",
            "Ano de nascimento: 1992\n",
            "Numero da carteira de trabalho: 10\n",
            "Idade: 28\n",
            "Ano de contratação: 2010\n",
            "Salário: 1.500\n",
            "carlos vai se aposentar com: 52 anos\n"
          ],
          "name": "stdout"
        }
      ]
    }
  ]
}
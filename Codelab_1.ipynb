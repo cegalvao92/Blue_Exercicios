{
  "nbformat": 4,
  "nbformat_minor": 0,
  "metadata": {
    "colab": {
      "name": "Codelab_1.ipynb",
      "provenance": [],
      "collapsed_sections": [],
      "authorship_tag": "ABX9TyOvlaNOk+2OOPXFa0qdzFWw",
      "include_colab_link": true
    },
    "kernelspec": {
      "name": "python3",
      "display_name": "Python 3"
    },
    "language_info": {
      "name": "python"
    }
  },
  "cells": [
    {
      "cell_type": "markdown",
      "metadata": {
        "id": "view-in-github",
        "colab_type": "text"
      },
      "source": [
        "<a href=\"https://colab.research.google.com/github/cegalvao92/Blue_Exercicios/blob/main/Codelab_1.ipynb\" target=\"_parent\"><img src=\"https://colab.research.google.com/assets/colab-badge.svg\" alt=\"Open In Colab\"/></a>"
      ]
    },
    {
      "cell_type": "markdown",
      "metadata": {
        "id": "r_R8gceRSzWU"
      },
      "source": [
        "Exercícios para treinar:\n"
      ]
    },
    {
      "cell_type": "code",
      "metadata": {
        "colab": {
          "base_uri": "https://localhost:8080/"
        },
        "id": "37bgsZsMI66Y",
        "outputId": "be15fd8f-ef2a-4a2d-b6d9-ec64e4d494c5"
      },
      "source": [
        "print('O primeiro programa a gente nunca esquece')"
      ],
      "execution_count": 1,
      "outputs": [
        {
          "output_type": "stream",
          "text": [
            "O primeiro programa a gente nunca esquece\n"
          ],
          "name": "stdout"
        }
      ]
    },
    {
      "cell_type": "code",
      "metadata": {
        "colab": {
          "base_uri": "https://localhost:8080/"
        },
        "id": "zwrWnuz8S5Bj",
        "outputId": "c03c7c23-988a-4e63-91c5-2fc0339e4875"
      },
      "source": [
        "nome = input('Digite seu nome completo: ')\n",
        "end = input('Digite seu endereco: ')\n",
        "cep = input ('Digite o cep: ')\n",
        "tel = input ('Digite o telefone: ')\n",
        "print (nome, '/', end, '/', cep,'/', tel)"
      ],
      "execution_count": 4,
      "outputs": [
        {
          "output_type": "stream",
          "text": [
            "Digite seu nome completo: carlos eduardo\n",
            "Digite seu endereco: avenida central\n",
            "Digite o cep: 00000\n",
            "Digite o telefone: 123441242\n",
            "carlos eduardo / avenida central / 00000 / 123441242\n"
          ],
          "name": "stdout"
        }
      ]
    },
    {
      "cell_type": "code",
      "metadata": {
        "colab": {
          "base_uri": "https://localhost:8080/"
        },
        "id": "QH7uExrKW1FP",
        "outputId": "02fe572c-f159-4ece-aead-8ce452bd1248"
      },
      "source": [
        "print (\"Letra da musica: \\n \",\n",
        "       \"Ever wonder bout what he's doin \\n \",\n",
        "       \"How it all turned to lies \\n\",\n",
        "       \"Sometimes I think that it's better \\n\",\n",
        "       \"To never ask why \\n\")"
      ],
      "execution_count": 9,
      "outputs": [
        {
          "output_type": "stream",
          "text": [
            "Letra da musica: \n",
            "  Ever wonder bout what he's doin \n",
            "  How it all turned to lies \n",
            " Sometimes I think that it's better \n",
            " To never ask why \n",
            "\n"
          ],
          "name": "stdout"
        }
      ]
    },
    {
      "cell_type": "code",
      "metadata": {
        "colab": {
          "base_uri": "https://localhost:8080/"
        },
        "id": "R4ehnnZwULY8",
        "outputId": "98b17424-aa58-4e15-e4ac-4f4c586f35dc"
      },
      "source": [
        "aluno1 = input('Digite o nome do primeiro aluno: ')\n",
        "nota1 = float(input('Digite a nota dele: '))\n",
        "aluno2 = input('Digite o nome do segundo aluno: ')\n",
        "nota2 = float(input('Digite a nota dele: '))\n",
        "aluno3 = input('Digite o nome do terceiro aluno: ')\n",
        "nota3 = float(input('Digite a nota dele: '))\n",
        "aluno4 = input('Digite o nome do quarto aluno: ')\n",
        "nota4 = float(input('Digite a nota dele: '))\n",
        "\n",
        "print('ALUNO(A)', 'NOTA: \\n')\n",
        "print(aluno1,'---',nota1, '\\n')\n",
        "print(aluno2,'---',nota2, '\\n')\n",
        "print(aluno3,'---',nota3, '\\n')\n",
        "print(aluno4,'---',nota4)"
      ],
      "execution_count": 13,
      "outputs": [
        {
          "output_type": "stream",
          "text": [
            "Digite o nome do primeiro aluno: aline\n",
            "Digite a nota dele: 9.0\n",
            "Digite o nome do segundo aluno: mário\n",
            "Digite a nota dele: 10\n",
            "Digite o nome do terceiro aluno: sérgio\n",
            "Digite a nota dele: 4.5\n",
            "Digite o nome do quarto aluno: shirley\n",
            "Digite a nota dele: 7.0\n",
            "ALUNO(A) NOTA: \n",
            "\n",
            "aline --- 9.0 \n",
            "\n",
            "mário --- 10.0 \n",
            "\n",
            "sérgio --- 4.5 \n",
            "\n",
            "shirley --- 7.0\n"
          ],
          "name": "stdout"
        }
      ]
    },
    {
      "cell_type": "code",
      "metadata": {
        "colab": {
          "base_uri": "https://localhost:8080/"
        },
        "id": "ukatyGCEbQ6j",
        "outputId": "6a2d8098-e3aa-4021-8607-8303c59e7904"
      },
      "source": [
        "print('Cadastro de Clientes \\n')\n",
        "print('0 - fim \\n')\n",
        "print('1 - Inclui \\n')\n",
        "print('2 - Altera \\n')\n",
        "print('3 - Exclui \\n')\n",
        "print('4 - Consulta \\n')\n",
        "\n",
        "a,b,c,d,e = 0,1,2,3,4 \n",
        "opcao = int(input('Digite uma opção: \\n'))\n",
        "print('\\nVocê escolheu a opção: ', opcao)\n"
      ],
      "execution_count": 17,
      "outputs": [
        {
          "output_type": "stream",
          "text": [
            "Cadastro de Clientes \n",
            "\n",
            "0 - fim \n",
            "\n",
            "1 - Inclui \n",
            "\n",
            "2 - Altera \n",
            "\n",
            "3 - Exclui \n",
            "\n",
            "4 - Consulta \n",
            "\n",
            "Digite uma opção: \n",
            "1\n",
            "\n",
            "Você escolheu a opção:  1\n"
          ],
          "name": "stdout"
        }
      ]
    }
  ]
}
{
  "nbformat": 4,
  "nbformat_minor": 0,
  "metadata": {
    "colab": {
      "name": "Codelab_1.ipynb",
      "provenance": [],
      "collapsed_sections": [],
      "authorship_tag": "ABX9TyMMGiqPI7IOC+Sg8HFGqnEb",
      "include_colab_link": true
    },
    "kernelspec": {
      "name": "python3",
      "display_name": "Python 3"
    },
    "language_info": {
      "name": "python"
    }
  },
  "cells": [
    {
      "cell_type": "markdown",
      "metadata": {
        "id": "view-in-github",
        "colab_type": "text"
      },
      "source": [
        "<a href=\"https://colab.research.google.com/github/cegalvao92/Blue_Exercicios/blob/main/Codelab_1.ipynb\" target=\"_parent\"><img src=\"https://colab.research.google.com/assets/colab-badge.svg\" alt=\"Open In Colab\"/></a>"
      ]
    },
    {
      "cell_type": "markdown",
      "metadata": {
        "id": "r_R8gceRSzWU"
      },
      "source": [
        "Exercícios para treinar:\n"
      ]
    },
    {
      "cell_type": "code",
      "metadata": {
        "colab": {
          "base_uri": "https://localhost:8080/"
        },
        "id": "37bgsZsMI66Y",
        "outputId": "be15fd8f-ef2a-4a2d-b6d9-ec64e4d494c5"
      },
      "source": [
        "print('O primeiro programa a gente nunca esquece')"
      ],
      "execution_count": 1,
      "outputs": [
        {
          "output_type": "stream",
          "text": [
            "O primeiro programa a gente nunca esquece\n"
          ],
          "name": "stdout"
        }
      ]
    },
    {
      "cell_type": "code",
      "metadata": {
        "colab": {
          "base_uri": "https://localhost:8080/"
        },
        "id": "zwrWnuz8S5Bj",
        "outputId": "c03c7c23-988a-4e63-91c5-2fc0339e4875"
      },
      "source": [
        "nome = input('Digite seu nome completo: ')\n",
        "end = input('Digite seu endereco: ')\n",
        "cep = input ('Digite o cep: ')\n",
        "tel = input ('Digite o telefone: ')\n",
        "print (nome, '/', end, '/', cep,'/', tel)"
      ],
      "execution_count": 4,
      "outputs": [
        {
          "output_type": "stream",
          "text": [
            "Digite seu nome completo: carlos eduardo\n",
            "Digite seu endereco: avenida central\n",
            "Digite o cep: 00000\n",
            "Digite o telefone: 123441242\n",
            "carlos eduardo / avenida central / 00000 / 123441242\n"
          ],
          "name": "stdout"
        }
      ]
    },
    {
      "cell_type": "code",
      "metadata": {
        "colab": {
          "base_uri": "https://localhost:8080/"
        },
        "id": "QH7uExrKW1FP",
        "outputId": "02fe572c-f159-4ece-aead-8ce452bd1248"
      },
      "source": [
        "print (\"Letra da musica: \\n \",\n",
        "       \"Ever wonder bout what he's doin \\n \",\n",
        "       \"How it all turned to lies \\n\",\n",
        "       \"Sometimes I think that it's better \\n\",\n",
        "       \"To never ask why \\n\")"
      ],
      "execution_count": 9,
      "outputs": [
        {
          "output_type": "stream",
          "text": [
            "Letra da musica: \n",
            "  Ever wonder bout what he's doin \n",
            "  How it all turned to lies \n",
            " Sometimes I think that it's better \n",
            " To never ask why \n",
            "\n"
          ],
          "name": "stdout"
        }
      ]
    }
  ]
}
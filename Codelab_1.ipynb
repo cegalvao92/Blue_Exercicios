{
  "nbformat": 4,
  "nbformat_minor": 0,
  "metadata": {
    "colab": {
      "name": "Codelab_1.ipynb",
      "provenance": [],
      "collapsed_sections": [],
      "authorship_tag": "ABX9TyP05LfBgHJWcQsD3XYygtrP",
      "include_colab_link": true
    },
    "kernelspec": {
      "name": "python3",
      "display_name": "Python 3"
    },
    "language_info": {
      "name": "python"
    }
  },
  "cells": [
    {
      "cell_type": "markdown",
      "metadata": {
        "id": "view-in-github",
        "colab_type": "text"
      },
      "source": [
        "<a href=\"https://colab.research.google.com/github/cegalvao92/Blue_Exercicios/blob/main/Codelab_1.ipynb\" target=\"_parent\"><img src=\"https://colab.research.google.com/assets/colab-badge.svg\" alt=\"Open In Colab\"/></a>"
      ]
    },
    {
      "cell_type": "markdown",
      "metadata": {
        "id": "r_R8gceRSzWU"
      },
      "source": [
        "Exercícios para treinar:\n"
      ]
    },
    {
      "cell_type": "code",
      "metadata": {
        "colab": {
          "base_uri": "https://localhost:8080/"
        },
        "id": "37bgsZsMI66Y",
        "outputId": "be15fd8f-ef2a-4a2d-b6d9-ec64e4d494c5"
      },
      "source": [
        "print('O primeiro programa a gente nunca esquece')"
      ],
      "execution_count": null,
      "outputs": [
        {
          "output_type": "stream",
          "text": [
            "O primeiro programa a gente nunca esquece\n"
          ],
          "name": "stdout"
        }
      ]
    },
    {
      "cell_type": "code",
      "metadata": {
        "colab": {
          "base_uri": "https://localhost:8080/"
        },
        "id": "zwrWnuz8S5Bj",
        "outputId": "c03c7c23-988a-4e63-91c5-2fc0339e4875"
      },
      "source": [
        "nome = input('Digite seu nome completo: ')\n",
        "end = input('Digite seu endereco: ')\n",
        "cep = input ('Digite o cep: ')\n",
        "tel = input ('Digite o telefone: ')\n",
        "print (nome, '/', end, '/', cep,'/', tel)"
      ],
      "execution_count": null,
      "outputs": [
        {
          "output_type": "stream",
          "text": [
            "Digite seu nome completo: carlos eduardo\n",
            "Digite seu endereco: avenida central\n",
            "Digite o cep: 00000\n",
            "Digite o telefone: 123441242\n",
            "carlos eduardo / avenida central / 00000 / 123441242\n"
          ],
          "name": "stdout"
        }
      ]
    },
    {
      "cell_type": "code",
      "metadata": {
        "colab": {
          "base_uri": "https://localhost:8080/"
        },
        "id": "QH7uExrKW1FP",
        "outputId": "02fe572c-f159-4ece-aead-8ce452bd1248"
      },
      "source": [
        "print (\"Letra da musica: \\n \",\n",
        "       \"Ever wonder bout what he's doin \\n \",\n",
        "       \"How it all turned to lies \\n\",\n",
        "       \"Sometimes I think that it's better \\n\",\n",
        "       \"To never ask why \\n\")"
      ],
      "execution_count": null,
      "outputs": [
        {
          "output_type": "stream",
          "text": [
            "Letra da musica: \n",
            "  Ever wonder bout what he's doin \n",
            "  How it all turned to lies \n",
            " Sometimes I think that it's better \n",
            " To never ask why \n",
            "\n"
          ],
          "name": "stdout"
        }
      ]
    },
    {
      "cell_type": "code",
      "metadata": {
        "colab": {
          "base_uri": "https://localhost:8080/"
        },
        "id": "R4ehnnZwULY8",
        "outputId": "98b17424-aa58-4e15-e4ac-4f4c586f35dc"
      },
      "source": [
        "aluno1 = input('Digite o nome do primeiro aluno: ')\n",
        "nota1 = float(input('Digite a nota dele: '))\n",
        "aluno2 = input('Digite o nome do segundo aluno: ')\n",
        "nota2 = float(input('Digite a nota dele: '))\n",
        "aluno3 = input('Digite o nome do terceiro aluno: ')\n",
        "nota3 = float(input('Digite a nota dele: '))\n",
        "aluno4 = input('Digite o nome do quarto aluno: ')\n",
        "nota4 = float(input('Digite a nota dele: '))\n",
        "\n",
        "print('ALUNO(A)', 'NOTA: \\n')\n",
        "print(aluno1,'---',nota1, '\\n')\n",
        "print(aluno2,'---',nota2, '\\n')\n",
        "print(aluno3,'---',nota3, '\\n')\n",
        "print(aluno4,'---',nota4)"
      ],
      "execution_count": null,
      "outputs": [
        {
          "output_type": "stream",
          "text": [
            "Digite o nome do primeiro aluno: aline\n",
            "Digite a nota dele: 9.0\n",
            "Digite o nome do segundo aluno: mário\n",
            "Digite a nota dele: 10\n",
            "Digite o nome do terceiro aluno: sérgio\n",
            "Digite a nota dele: 4.5\n",
            "Digite o nome do quarto aluno: shirley\n",
            "Digite a nota dele: 7.0\n",
            "ALUNO(A) NOTA: \n",
            "\n",
            "aline --- 9.0 \n",
            "\n",
            "mário --- 10.0 \n",
            "\n",
            "sérgio --- 4.5 \n",
            "\n",
            "shirley --- 7.0\n"
          ],
          "name": "stdout"
        }
      ]
    },
    {
      "cell_type": "code",
      "metadata": {
        "colab": {
          "base_uri": "https://localhost:8080/"
        },
        "id": "ukatyGCEbQ6j",
        "outputId": "6a2d8098-e3aa-4021-8607-8303c59e7904"
      },
      "source": [
        "print('Cadastro de Clientes \\n')\n",
        "print('0 - fim \\n')\n",
        "print('1 - Inclui \\n')\n",
        "print('2 - Altera \\n')\n",
        "print('3 - Exclui \\n')\n",
        "print('4 - Consulta \\n')\n",
        "\n",
        "a,b,c,d,e = 0,1,2,3,4 \n",
        "opcao = int(input('Digite uma opção: \\n'))\n",
        "print('\\nVocê escolheu a opção: ', opcao)\n"
      ],
      "execution_count": null,
      "outputs": [
        {
          "output_type": "stream",
          "text": [
            "Cadastro de Clientes \n",
            "\n",
            "0 - fim \n",
            "\n",
            "1 - Inclui \n",
            "\n",
            "2 - Altera \n",
            "\n",
            "3 - Exclui \n",
            "\n",
            "4 - Consulta \n",
            "\n",
            "Digite uma opção: \n",
            "1\n",
            "\n",
            "Você escolheu a opção:  1\n"
          ],
          "name": "stdout"
        }
      ]
    },
    {
      "cell_type": "code",
      "metadata": {
        "colab": {
          "base_uri": "https://localhost:8080/"
        },
        "id": "IrJLzsrTJ6th",
        "outputId": "c9177c6c-3c04-4406-a174-356b34580528"
      },
      "source": [
        "num1 = int(input('Digite o primeiro numero: '))\n",
        "num2 = int(input('Digite o segundo numero: '))\n",
        "num3 = int(input('Digite o terceiro numero: '))\n",
        "\n",
        "if num1 > num2 and num1 > num3:\n",
        "  print(f'O numero {num1} é o maior dos tres')\n",
        "if num2 > num1 and num2 > num3:\n",
        "  print(f'O numero {num2} é o maior dos tres')\n",
        "if num3 > num2 and num3 > num1:\n",
        "  print(f'O numero {num3} é o maior dos tres')\n",
        "if num1 < num2 and num1 < num3:\n",
        "  print(f'O numero {num1} é o menor dos tres')\n",
        "if num2 < num1 and num2 < num3:\n",
        "  print(f'O numero {num2} é o menor dos tres')\n",
        "if num3 < num1 and num3 < num2:\n",
        "  print(f'O numero {num3} é o menor dos tres')"
      ],
      "execution_count": 3,
      "outputs": [
        {
          "output_type": "stream",
          "text": [
            "Digite o primeiro numero: 10\n",
            "Digite o segundo numero: 10\n",
            "Digite o terceiro numero: 1\n",
            "O numero 1 é o menor dos tres\n"
          ],
          "name": "stdout"
        }
      ]
    },
    {
      "cell_type": "code",
      "metadata": {
        "colab": {
          "base_uri": "https://localhost:8080/"
        },
        "id": "v25NXTUeNHlv",
        "outputId": "43817729-af04-4acd-ab45-0ff1090d0261"
      },
      "source": [
        "num1 = int(input('Digite o primeiro numero: '))\n",
        "num2 = int(input('Digite o segundo numero: '))\n",
        "\n",
        "if num1 > num2:\n",
        "  print(num1)\n",
        "elif num1 == num2:\n",
        "  print('Os numeros digitados são iguais')\n",
        "else:\n",
        "  print(num2)"
      ],
      "execution_count": 10,
      "outputs": [
        {
          "output_type": "stream",
          "text": [
            "Digite o primeiro numero: 1\n",
            "Digite o segundo numero: 5\n",
            "5\n"
          ],
          "name": "stdout"
        }
      ]
    },
    {
      "cell_type": "code",
      "metadata": {
        "colab": {
          "base_uri": "https://localhost:8080/"
        },
        "id": "fWhleZO5Ooas",
        "outputId": "784aeeea-21f6-49d9-c7dc-37062be1219b"
      },
      "source": [
        "num = int(input('Digite o numero: '))\n",
        "\n",
        "if num >= 0:\n",
        "  print(f'{num} é positivo')\n",
        "else:\n",
        "  print(f'{num} é negativo')"
      ],
      "execution_count": 12,
      "outputs": [
        {
          "output_type": "stream",
          "text": [
            "Digite o numero: -1\n",
            "-1 é negativo\n"
          ],
          "name": "stdout"
        }
      ]
    },
    {
      "cell_type": "code",
      "metadata": {
        "colab": {
          "base_uri": "https://localhost:8080/"
        },
        "id": "PnBpxdEePUz2",
        "outputId": "bf36a7e2-741c-475b-b18a-866a42421540"
      },
      "source": [
        "sexo = input('Digite M ou F para o sexo da pessoa: ').upper()\n",
        "\n",
        "if sexo == 'M':\n",
        "  print('M - Masculino')\n",
        "elif sexo == 'F':\n",
        "  print('F - Feminino')\n",
        "else:\n",
        "  print('Sexo Inválido')"
      ],
      "execution_count": 17,
      "outputs": [
        {
          "output_type": "stream",
          "text": [
            "Digite M ou F para o sexo da pessoa: f\n",
            "F - Feminino\n"
          ],
          "name": "stdout"
        }
      ]
    },
    {
      "cell_type": "code",
      "metadata": {
        "colab": {
          "base_uri": "https://localhost:8080/"
        },
        "id": "31ngoB2lQ2l-",
        "outputId": "fbbd3af6-187f-4d97-ae56-2df3fa53e405"
      },
      "source": [
        "nota = float(input('Digite a nota do aluno: '))\n",
        "\n",
        "if nota < 6.0:\n",
        "  print('Nota F')\n",
        "if nota >= 6.0 and nota < 7.0:\n",
        "  print('Nota D')\n",
        "if nota >= 7.0 and nota < 8.0:\n",
        "  print('Nota C')\n",
        "if nota >= 8.0 and nota < 9.0:\n",
        "  print('Nota B')\n",
        "if nota >= 9.0 and nota < 10.0:\n",
        "  print('Nota A')\n"
      ],
      "execution_count": 19,
      "outputs": [
        {
          "output_type": "stream",
          "text": [
            "Digite a nota do aluno: 6.5\n",
            "Nota D\n"
          ],
          "name": "stdout"
        }
      ]
    },
    {
      "cell_type": "code",
      "metadata": {
        "colab": {
          "base_uri": "https://localhost:8080/"
        },
        "id": "GtP5AwGPTTdu",
        "outputId": "66b04111-d14a-424c-d91a-a4bd1aa7287a"
      },
      "source": [
        "letra = input('Digite uma letra do alfabeto: ').upper()\n",
        "\n",
        "if letra == 'a' or letra == 'e' or letra == 'i' or letra == 'o' or letra == 'u':\n",
        "  print(f'{letra} é uma vogal')\n",
        "else:\n",
        "  print(f'{letra} é uma consoante')"
      ],
      "execution_count": 31,
      "outputs": [
        {
          "output_type": "stream",
          "text": [
            "Digite uma letra do alfabeto: B\n",
            "B é uma consoante\n"
          ],
          "name": "stdout"
        }
      ]
    },
    {
      "cell_type": "markdown",
      "metadata": {
        "id": "NSQaQU-vaEYi"
      },
      "source": [
        "Projeto 1"
      ]
    },
    {
      "cell_type": "code",
      "metadata": {
        "colab": {
          "base_uri": "https://localhost:8080/"
        },
        "id": "w3q8DB_GaLG0",
        "outputId": "607de332-506f-4bf1-f3fb-8cdbedee2af1"
      },
      "source": [
        "palavra = input('Digite medieval ou futurista: ')\n",
        "ataque = input('Digite a forma de ataque (Espada ou Sabre): ')\n",
        "\n",
        "if palavra == 'medieval':\n",
        "  print('Espada')\n",
        "elif palavra == 'futurista':\n",
        "  print('Sabre de Luz')\n",
        "else:\n",
        "  print('Tente Novamente')\n",
        "\n",
        "if ataque == 'espada':\n",
        "  print('Você ainda não matou o chefão!')\n",
        "elif ataque == 'sabre':\n",
        "  print('Você derrotou o chefão com o sabre de luz!')\n",
        "else:\n",
        "  print('Ataque novamente!')"
      ],
      "execution_count": 46,
      "outputs": [
        {
          "output_type": "stream",
          "text": [
            "Digite medieval ou futurista: sadfsf\n",
            "Digite a forma de ataque (Espada ou Sabre): safsf\n",
            "Tente Novamente\n",
            "Ataque novamente!\n"
          ],
          "name": "stdout"
        }
      ]
    },
    {
      "cell_type": "markdown",
      "metadata": {
        "id": "RLLkgVDjfeIv"
      },
      "source": [
        "Desafio 1"
      ]
    },
    {
      "cell_type": "code",
      "metadata": {
        "colab": {
          "base_uri": "https://localhost:8080/"
        },
        "id": "oj91GPkSfiZt",
        "outputId": "db3f3ac9-07d5-403e-98b0-132dc7589904"
      },
      "source": [
        "salario = float(input('Digite o salario do colaborador: R$ '))\n",
        "reajuste1 = (salario*0.2)+salario\n",
        "reajuste2 = (salario*0.15)+salario\n",
        "reajuste3 = (salario*0.10)+salario\n",
        "reajuste4 = (salario*0.05)+salario\n",
        "\n",
        "if salario <= 280.00:\n",
        "  print(f\"Salario com reajuste de 20%: R${reajuste1:.2f}\")\n",
        "  \n",
        "if salario > 280.00 and salario <= 700.00:\n",
        "  print(f\"Salario com reajuste de 15%: R${reajuste2:.2f}\")\n",
        "\n",
        "if salario > 700.00 and salario <= 1500.00:\n",
        "  print(f\"Salario com reajuste de 10%: R${reajuste3:.2f}\")\n",
        "\n",
        "if salario > 1500.00:\n",
        "  print(f\"Salario com reajuste de 5%: R${reajuste4:.2f}\")\n",
        "\n",
        "\n"
      ],
      "execution_count": 66,
      "outputs": [
        {
          "output_type": "stream",
          "text": [
            "Digite o salario do colaborador: R$ 1000\n",
            "Salario com reajuste de 10%: R$1100.00\n"
          ],
          "name": "stdout"
        }
      ]
    }
  ]
}